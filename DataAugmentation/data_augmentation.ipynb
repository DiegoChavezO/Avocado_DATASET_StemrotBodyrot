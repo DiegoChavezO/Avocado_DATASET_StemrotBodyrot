{
  "nbformat": 4,
  "nbformat_minor": 0,
  "metadata": {
    "colab": {
      "provenance": []
    },
    "kernelspec": {
      "name": "python3",
      "display_name": "Python 3"
    },
    "language_info": {
      "name": "python"
    },
    "accelerator": "GPU"
  },
  "cells": [
    {
      "cell_type": "code",
      "metadata": {
        "id": "S8X45Fzjaek5"
      },
      "source": [
        "#Liberia para realizar cálculos lógicos y matematicos sobre cuadros y matrices\n",
        "import numpy as np\n",
        "#Libreria como extensión de Numpy para la manipulación y análisis de datos\n",
        "import pandas as pd\n",
        "#Libreria para la creación de gráficos en dos dimensiones.\n",
        "import matplotlib.pyplot as plt\n",
        "#Libreria para la creación de modelos de aprendizaje automático.\n",
        "import os\n",
        "from tensorflow.keras.preprocessing.image import ImageDataGenerator, load_img, img_to_array, array_to_img\n",
        "from tqdm import tqdm"
      ],
      "execution_count": null,
      "outputs": []
    },
    {
      "cell_type": "code",
      "source": [
        "from google.colab import drive\n",
        "drive.mount('/content/drive')"
      ],
      "metadata": {
        "colab": {
          "base_uri": "https://localhost:8080/"
        },
        "id": "MjycRMen0jSn",
        "outputId": "24e23f41-5b44-45ca-d59c-ff0065caecb6"
      },
      "execution_count": null,
      "outputs": [
        {
          "output_type": "stream",
          "name": "stdout",
          "text": [
            "Mounted at /content/drive\n"
          ]
        }
      ]
    },
    {
      "cell_type": "code",
      "source": [
        "# Función para aplicar las transformaciones y guardarlas en subcarpetas\n",
        "def aplicar_transformaciones(imagen, nombre_imagen, extensiones_validas):\n",
        "    # Cargar imagen solo si tiene una extensión válida\n",
        "    ext = os.path.splitext(nombre_imagen)[1].lower()\n",
        "    if ext in extensiones_validas:\n",
        "        img = load_img(os.path.join(DIR_BASE, nombre_imagen))  # Cargar imagen\n",
        "        img_array = img_to_array(img)  # Convertir a array numpy\n",
        "        img_array = np.expand_dims(img_array, axis=0)  # Expandir dimensiones para que sea compatible con el datagen\n",
        "\n",
        "        # Definir el generador de data augmentation con todas las transformaciones\n",
        "        datagen = ImageDataGenerator(\n",
        "            rotation_range=15,\n",
        "            zoom_range=0.1,\n",
        "            width_shift_range=0.1,\n",
        "            height_shift_range=0.1,\n",
        "            brightness_range=[0.8, 1.2],\n",
        "            horizontal_flip=True,\n",
        "            channel_shift_range=0.1\n",
        "        )\n",
        "\n",
        "        # Aplicar transformaciones\n",
        "        i = 0\n",
        "        for batch in datagen.flow(img_array, batch_size=1):\n",
        "            # Guardar cada transformación en la subcarpeta correspondiente\n",
        "            if i == 0:  # Rotación\n",
        "                save_path = os.path.join(DIR_AUGMENTED, 'rotacion', f\"rotacion_{nombre_imagen}\")\n",
        "            elif i == 1:  # Zoom\n",
        "                save_path = os.path.join(DIR_AUGMENTED, 'zoom', f\"zoom_{nombre_imagen}\")\n",
        "            elif i == 2:  # Desplazamiento\n",
        "                save_path = os.path.join(DIR_AUGMENTED, 'desplazamiento', f\"desplazamiento_{nombre_imagen}\")\n",
        "            elif i == 3:  # Brillo\n",
        "                save_path = os.path.join(DIR_AUGMENTED, 'brillo', f\"brillo_{nombre_imagen}\")\n",
        "            elif i == 4:  # Flip horizontal\n",
        "                save_path = os.path.join(DIR_AUGMENTED, 'flip_horizontal', f\"flip_horizontal_{nombre_imagen}\")\n",
        "            elif i == 5:  # Channel shift\n",
        "                save_path = os.path.join(DIR_AUGMENTED, 'channel_shift', f\"channel_shift_{nombre_imagen}\")\n",
        "\n",
        "            # Convertir el array a imagen y guardar en formato compatible\n",
        "            img_aug = array_to_img(batch[0])\n",
        "            img_aug.save(save_path)\n",
        "\n",
        "            i += 1\n",
        "            if i >= 6:  # Para detener después de aplicar todas las transformaciones\n",
        "                break"
      ],
      "metadata": {
        "id": "m_5UCTint6xb"
      },
      "execution_count": null,
      "outputs": []
    },
    {
      "cell_type": "code",
      "source": [
        "\n",
        "# Directorios base\n",
        "DIR_BASE = '/content/drive/MyDrive/TT/Imagenes clasificadas/sajo/'\n",
        "DIR_AUGMENTED = '/content/drive/MyDrive/TT/Imagenes clasificadas/sajo/Augmented'\n",
        "\n",
        "# Crear subcarpetas para guardar cada transformación\n",
        "TRANSFORMATIONS = ['rotacion', 'zoom', 'desplazamiento', 'brillo', 'flip_horizontal', 'channel_shift']\n",
        "for trans in TRANSFORMATIONS:\n",
        "    os.makedirs(os.path.join(DIR_AUGMENTED, trans), exist_ok=True)\n",
        "\n",
        "\n",
        "# Lista de extensiones de imagen válidas\n",
        "extensiones_validas = ['.jpg', '.jpeg', '.png', '.jfif']\n",
        "\n",
        "# Recorrer las imágenes en el directorio original y aplicar transformaciones\n",
        "for archivo in tqdm(os.listdir(DIR_BASE)):\n",
        "    if archivo.lower().endswith(tuple(extensiones_validas)):  # Solo procesar imágenes con las extensiones válidas\n",
        "        aplicar_transformaciones(archivo, archivo, extensiones_validas)\n",
        "\n",
        "print(\"Transformaciones aplicadas y guardadas.\")"
      ],
      "metadata": {
        "colab": {
          "base_uri": "https://localhost:8080/"
        },
        "id": "I6eM6IwUtzRR",
        "outputId": "e27c1e17-edb3-4adc-ab01-5671d75aa68f"
      },
      "execution_count": null,
      "outputs": [
        {
          "output_type": "stream",
          "name": "stderr",
          "text": [
            "100%|██████████| 61/61 [09:27<00:00,  9.30s/it]"
          ]
        },
        {
          "output_type": "stream",
          "name": "stdout",
          "text": [
            "Transformaciones aplicadas y guardadas.\n"
          ]
        },
        {
          "output_type": "stream",
          "name": "stderr",
          "text": [
            "\n"
          ]
        }
      ]
    },
    {
      "cell_type": "code",
      "metadata": {
        "colab": {
          "base_uri": "https://localhost:8080/"
        },
        "id": "IATdwOIDj_zO",
        "outputId": "cb43eec4-c729-4f2e-a7b1-916c0841ddbb"
      },
      "source": [
        "print(Etiquetas)"
      ],
      "execution_count": null,
      "outputs": [
        {
          "output_type": "stream",
          "name": "stdout",
          "text": [
            "[0, 0, 0, 0, 0, 0, 0, 0, 0, 0, 0, 0, 0, 0, 0, 0, 0, 0, 0, 0, 0, 0, 0, 0, 0, 0, 0, 0, 0, 0, 0, 0, 0, 0, 0, 0, 0, 0, 0, 0, 0, 0, 0, 0, 0, 0, 0, 0, 0, 0, 0, 0, 0, 0, 0, 0, 0, 0, 0, 0, 0, 0, 0, 0, 0, 0, 0, 0, 0, 0, 0, 0, 0, 0, 1, 1, 1, 1, 1, 1, 1, 1, 1, 1, 1, 1, 1, 1, 1, 1, 1, 1, 1, 1, 1, 1, 1, 2, 2, 2, 2, 2, 2, 2, 2, 2, 2, 2, 2, 2, 2, 2, 2, 2, 2, 2, 2, 2, 2, 2, 2, 2, 2, 2, 2, 2, 2, 2, 2, 2, 2, 2, 2, 2, 2, 2, 2, 2, 2, 2, 2, 2, 2, 2, 2, 2, 2, 2, 2, 2, 2, 2, 2, 2, 2, 2, 2, 2]\n"
          ]
        }
      ]
    },
    {
      "cell_type": "code",
      "metadata": {
        "id": "FTmSz3YbfFY6"
      },
      "source": [
        "\n"
      ],
      "execution_count": null,
      "outputs": []
    }
  ]
}